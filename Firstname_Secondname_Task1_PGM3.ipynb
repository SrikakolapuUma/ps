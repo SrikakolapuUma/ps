{
 "cells": [
  {
   "cell_type": "code",
   "execution_count": 1,
   "metadata": {},
   "outputs": [
    {
     "name": "stdout",
     "output_type": "stream",
     "text": [
      "Enter the First Name:Uma\n",
      "Enter the Last name :Srikakolapu\n",
      "The String is Reverse:Srikakolapu Uma\n"
     ]
    }
   ],
   "source": [
    "First_name = input (\"Enter the First Name:\")\n",
    "Last_name = input (\"Enter the Last name :\")\n",
    "print (\"The String is Reverse:\" +Last_name + \" \" + First_name)"
   ]
  },
  {
   "cell_type": "code",
   "execution_count": null,
   "metadata": {},
   "outputs": [],
   "source": []
  }
 ],
 "metadata": {
  "kernelspec": {
   "display_name": "Python 3",
   "language": "python",
   "name": "python3"
  },
  "language_info": {
   "codemirror_mode": {
    "name": "ipython",
    "version": 3
   },
   "file_extension": ".py",
   "mimetype": "text/x-python",
   "name": "python",
   "nbconvert_exporter": "python",
   "pygments_lexer": "ipython3",
   "version": "3.7.3"
  }
 },
 "nbformat": 4,
 "nbformat_minor": 2
}
